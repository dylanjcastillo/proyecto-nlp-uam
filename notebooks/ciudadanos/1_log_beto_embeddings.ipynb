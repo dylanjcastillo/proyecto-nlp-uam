{
 "cells": [
  {
   "cell_type": "code",
   "execution_count": 57,
   "id": "R_q-Nu53y4IT",
   "metadata": {
    "execution": {
     "iopub.execute_input": "2022-08-09T15:27:01.510383Z",
     "iopub.status.busy": "2022-08-09T15:27:01.509815Z",
     "iopub.status.idle": "2022-08-09T15:27:01.515411Z",
     "shell.execute_reply": "2022-08-09T15:27:01.514691Z"
    },
    "id": "R_q-Nu53y4IT",
    "papermill": {
     "duration": 0.01872,
     "end_time": "2022-08-09T15:27:01.517305",
     "exception": false,
     "start_time": "2022-08-09T15:27:01.498585",
     "status": "completed"
    },
    "tags": []
   },
   "outputs": [],
   "source": [
    "#!pip install --quiet sentence-transformers emoji "
   ]
  },
  {
   "cell_type": "code",
   "execution_count": 1,
   "id": "SrQ-eZ5-zoyi",
   "metadata": {
    "colab": {
     "base_uri": "https://localhost:8080/"
    },
    "execution": {
     "iopub.execute_input": "2022-08-09T15:27:01.531382Z",
     "iopub.status.busy": "2022-08-09T15:27:01.531077Z",
     "iopub.status.idle": "2022-08-09T15:27:01.534848Z",
     "shell.execute_reply": "2022-08-09T15:27:01.533743Z"
    },
    "id": "SrQ-eZ5-zoyi",
    "outputId": "e62ac50a-f003-4691-98a9-e79d33346d95",
    "papermill": {
     "duration": 0.012359,
     "end_time": "2022-08-09T15:27:01.537134",
     "exception": false,
     "start_time": "2022-08-09T15:27:01.524775",
     "status": "completed"
    },
    "tags": []
   },
   "outputs": [],
   "source": [
    "try:\n",
    "    from google.colab import drive\n",
    "    drive.mount('/content/drive')\n",
    "    DATA_PATH = \"/content/drive/MyDrive/nlp-tweets-classification/\"\n",
    "    ARTIFACTS_PATH = \"/content/drive/MyDrive/nlp-tweets-classification/\"\n",
    "except ModuleNotFoundError:\n",
    "    DATA_PATH = \"../../data/\"\n",
    "    ARTIFACTS_PATH = \"../../artifacts/\"\n",
    "    running_in_colab = False"
   ]
  },
  {
   "cell_type": "markdown",
   "id": "25e42212",
   "metadata": {
    "id": "25e42212"
   },
   "source": [
    "## Imports"
   ]
  },
  {
   "cell_type": "code",
   "execution_count": 1,
   "id": "bQ_E89Xbzlk7",
   "metadata": {
    "execution": {
     "iopub.execute_input": "2022-08-09T15:27:01.547233Z",
     "iopub.status.busy": "2022-08-09T15:27:01.546911Z",
     "iopub.status.idle": "2022-08-09T15:27:02.379822Z",
     "shell.execute_reply": "2022-08-09T15:27:02.379440Z"
    },
    "id": "bQ_E89Xbzlk7",
    "papermill": {
     "duration": 0.839717,
     "end_time": "2022-08-09T15:27:02.381066",
     "exception": false,
     "start_time": "2022-08-09T15:27:01.541349",
     "status": "completed"
    },
    "tags": []
   },
   "outputs": [],
   "source": [
    "import os\n",
    "import joblib\n",
    "import random\n",
    "import uuid\n",
    "\n",
    "from emoji import demojize\n",
    "import pandas as pd\n",
    "import numpy as np\n",
    "\n",
    "from sklearn.ensemble import RandomForestClassifier, HistGradientBoostingClassifier\n",
    "from sklearn.naive_bayes import GaussianNB\n",
    "from sklearn.linear_model import LogisticRegression\n",
    "from sklearn.metrics import silhouette_samples, silhouette_score, \\\n",
    "                            cohen_kappa_score, precision_score, \\\n",
    "                            recall_score, average_precision_score, \\\n",
    "                            f1_score, balanced_accuracy_score\n",
    "from sklearn.model_selection import StratifiedKFold, GridSearchCV\n",
    "from sklearn.preprocessing import LabelEncoder\n",
    "from sklearn.svm import LinearSVC\n",
    "\n",
    "from lightgbm import LGBMClassifier\n",
    "from xgboost import XGBClassifier, XGBRFClassifier\n",
    "from tqdm.notebook import tqdm\n",
    "from sklearn.model_selection import train_test_split\n",
    "\n",
    "pd.set_option(\"display.max_colwidth\", None)\n",
    "\n",
    "SEED = 42\n",
    "DATA_PATH = '../../../../tweets_data/'\n",
    "random.seed(SEED)\n",
    "os.environ[\"PYTHONHASHSEED\"] = str(SEED)\n",
    "np.random.seed(SEED)"
   ]
  },
  {
   "cell_type": "markdown",
   "id": "54ac68cd",
   "metadata": {
    "id": "54ac68cd"
   },
   "source": [
    "## Utility functions"
   ]
  },
  {
   "cell_type": "code",
   "execution_count": 2,
   "id": "9928c2c4",
   "metadata": {
    "id": "9928c2c4"
   },
   "outputs": [],
   "source": [
    "def clean_text(text):\n",
    "   \n",
    "    tokens = text.split()\n",
    "    tokens = [t for t in tokens if 'http' not in t]\n",
    "    tokens = [demojize(t, language='es') for t in tokens]\n",
    "    tokens = [t.replace('@', '') for t in tokens]\n",
    "    \n",
    "    return \" \".join(tokens)\n",
    "\n",
    "\n",
    "def get_hyperparams_space(model_name):\n",
    "    if model_name == \"log\":\n",
    "        hyperparams = dict(\n",
    "            C=[0.001, 0.01, 0.1, 1, 10, 100], \n",
    "            penalty=[\"l1\", \"l2\"],\n",
    "            class_weight=[\"balanced\", None]\n",
    "        )\n",
    "    elif model_name == \"rf\":\n",
    "        hyperparams = dict(\n",
    "            n_estimators=[120, 500, 1200],\n",
    "            class_weight=[\"balanced\", None]\n",
    "        )\n",
    "    elif model_name == \"svc\":\n",
    "        hyperparams = dict(\n",
    "            C=[0.001, 0.01, 0.1, 1, 10, 100],\n",
    "            class_weight=[\"balanced\", None]\n",
    "        )\n",
    "    elif model_name == \"xgb\":\n",
    "        hyperparams = dict(\n",
    "            eta=[0.01, 0.05, 0.1],\n",
    "            gamma=[0.1, 0.5, 1],\n",
    "            max_depth=[3, 12, 25],\n",
    "            min_child_weight=[1, 3, 7],\n",
    "            subsample=[0.6, 0.8, 1],\n",
    "            colsample_bytree=[0.6, 0.8, 1],\n",
    "        )\n",
    "    elif model_name == \"nb\":\n",
    "        hyperparams = dict()\n",
    "    elif model_name == \"lgbm\":\n",
    "        hyperparams = dict(\n",
    "            learning_rate=[0.01, 0.05, 0.1],\n",
    "        )\n",
    "    else:\n",
    "        raise Exception(f\"No hyperparams for model {model_name}\")\n",
    "    return hyperparams\n",
    "\n",
    "def get_model(model_name):\n",
    "    if model_name == \"lgbm\":\n",
    "        return LGBMClassifier()\n",
    "    elif model_name == \"hist\":\n",
    "        return HistGradientBoostingClassifier()\n",
    "    elif model_name == \"log\":\n",
    "        return LogisticRegression(class_weight=\"balanced\", solver=\"liblinear\")\n",
    "    elif model_name == \"rf\":\n",
    "        return RandomForestClassifier(\n",
    "                  n_jobs=-1, \n",
    "                  n_estimators=1200, \n",
    "               )\n",
    "    elif model_name == \"nb\":\n",
    "        return GaussianNB()\n",
    "    elif model_name == \"xgb\":\n",
    "        return XGBClassifier(tree_method=\"hist\", use_label_encoder=False, max_depth=10, eta=0.1)\n",
    "    elif model_name == \"svc\":\n",
    "        return LinearSVC(class_weight=\"balanced\")\n",
    "    else:\n",
    "        raise ValueError(format)\n",
    "\n",
    "def get_mode_rows(a):\n",
    "    a = np.ascontiguousarray(a)\n",
    "    void_dt = np.dtype((np.void, a.dtype.itemsize * np.prod(a.shape[1:])))\n",
    "    _, ids, count = np.unique(a.view(void_dt).ravel(), return_index=1, return_counts=1)\n",
    "    largest_count_id = ids[count.argmax()]\n",
    "    most_frequent_row = a[largest_count_id]\n",
    "    return most_frequent_row"
   ]
  },
  {
   "cell_type": "markdown",
   "id": "509b840e",
   "metadata": {
    "id": "509b840e",
    "papermill": {
     "duration": 0.003212,
     "end_time": "2022-08-09T15:27:02.387341",
     "exception": false,
     "start_time": "2022-08-09T15:27:02.384129",
     "status": "completed"
    },
    "tags": []
   },
   "source": [
    "## Set notebook parameters"
   ]
  },
  {
   "cell_type": "code",
   "execution_count": 3,
   "id": "a580a384",
   "metadata": {
    "execution": {
     "iopub.execute_input": "2022-08-09T15:27:02.393363Z",
     "iopub.status.busy": "2022-08-09T15:27:02.392961Z",
     "iopub.status.idle": "2022-08-09T15:27:02.395933Z",
     "shell.execute_reply": "2022-08-09T15:27:02.395377Z"
    },
    "id": "a580a384",
    "papermill": {
     "duration": 0.007473,
     "end_time": "2022-08-09T15:27:02.397234",
     "exception": false,
     "start_time": "2022-08-09T15:27:02.389761",
     "status": "completed"
    },
    "tags": [
     "parameters"
    ]
   },
   "outputs": [],
   "source": [
    "col_target = \"label\"\n",
    "model_name = \"log\"\n",
    "n_splits = 10\n",
    "use_precalculated_embeddings = True \n",
    "run_hyperparams_search = True "
   ]
  },
  {
   "cell_type": "markdown",
   "id": "42905b26",
   "metadata": {
    "id": "42905b26",
    "papermill": {
     "duration": 0.002262,
     "end_time": "2022-08-09T15:27:02.409943",
     "exception": false,
     "start_time": "2022-08-09T15:27:02.407681",
     "status": "completed"
    },
    "tags": []
   },
   "source": [
    "## Read data"
   ]
  },
  {
   "cell_type": "code",
   "execution_count": 4,
   "id": "26dc25bf",
   "metadata": {},
   "outputs": [],
   "source": [
    "data = pd.read_csv(DATA_PATH + 'all_citizens_labeled_20221006.csv')\n"
   ]
  },
  {
   "cell_type": "code",
   "execution_count": 5,
   "id": "5a3b72ab",
   "metadata": {},
   "outputs": [],
   "source": [
    "df = data[['label', 'id', 'text']]\n"
   ]
  },
  {
   "cell_type": "code",
   "execution_count": 6,
   "id": "95b2dda4",
   "metadata": {},
   "outputs": [],
   "source": [
    "df = df.dropna()\n"
   ]
  },
  {
   "cell_type": "code",
   "execution_count": 7,
   "id": "30539155",
   "metadata": {},
   "outputs": [],
   "source": [
    "df.drop([670,1991], axis=0, inplace=True)"
   ]
  },
  {
   "cell_type": "code",
   "execution_count": 8,
   "id": "01823302",
   "metadata": {
    "scrolled": true
   },
   "outputs": [],
   "source": [
    "x_train, x_test, y_train, y_test = train_test_split(df.drop('label', axis=1), df.label, random_state=42, stratify=df.label)"
   ]
  },
  {
   "cell_type": "code",
   "execution_count": 9,
   "id": "953eacde",
   "metadata": {},
   "outputs": [],
   "source": [
    "df = pd.concat([y_train, x_train], axis=1)\n",
    "df_test = pd.concat([y_test, x_test], axis =1)"
   ]
  },
  {
   "cell_type": "markdown",
   "id": "kOTvL51j0brB",
   "metadata": {
    "id": "kOTvL51j0brB",
    "papermill": {
     "duration": 0.002277,
     "end_time": "2022-08-09T15:27:02.728449",
     "exception": false,
     "start_time": "2022-08-09T15:27:02.726172",
     "status": "completed"
    },
    "tags": []
   },
   "source": [
    "## Create embeddings"
   ]
  },
  {
   "cell_type": "code",
   "execution_count": 10,
   "id": "8a6cc8d7",
   "metadata": {},
   "outputs": [],
   "source": [
    "df_full= pd.concat([df,df_test], axis=0)"
   ]
  },
  {
   "cell_type": "code",
   "execution_count": 11,
   "id": "8d740f0c",
   "metadata": {},
   "outputs": [],
   "source": [
    "df_full.reset_index(drop=True, inplace=True)"
   ]
  },
  {
   "cell_type": "code",
   "execution_count": 12,
   "id": "T_X-xlv70ffu",
   "metadata": {
    "execution": {
     "iopub.execute_input": "2022-08-09T15:27:02.733862Z",
     "iopub.status.busy": "2022-08-09T15:27:02.733672Z",
     "iopub.status.idle": "2022-08-09T15:27:06.148682Z",
     "shell.execute_reply": "2022-08-09T15:27:06.148182Z"
    },
    "id": "T_X-xlv70ffu",
    "papermill": {
     "duration": 3.420862,
     "end_time": "2022-08-09T15:27:06.151621",
     "exception": false,
     "start_time": "2022-08-09T15:27:02.730759",
     "status": "completed"
    },
    "scrolled": true,
    "tags": []
   },
   "outputs": [],
   "source": [
    "if use_precalculated_embeddings:\n",
    "    df_embeddings = pd.read_csv(DATA_PATH + \"tweets_citizens_embeddings.csv\")\n",
    "else:\n",
    "    from sentence_transformers import SentenceTransformer\n",
    "    \n",
    "    cleaned_tweets = [clean_text(tweet) for tweet in tqdm(df_full.text)]\n",
    "    \n",
    "    model_em = SentenceTransformer('hiiamsid/sentence_similarity_spanish_es')\n",
    "    embeddings = model_em.encode(cleaned_tweets)\n",
    "\n",
    "    df_embeddings = pd.concat([df_full[\"id\"], pd.DataFrame(embeddings)], axis=1)\n",
    "    \n",
    "    df_embeddings.to_csv(DATA_PATH + 'tweets_citizens_embeddings.csv', index=False)\n",
    "\n",
    "#assert df.id.isin(df_embeddings.id).all() \n",
    "#assert df_test.id.isin(df_embeddings.id).all() "
   ]
  },
  {
   "cell_type": "markdown",
   "id": "62a4e6c4",
   "metadata": {
    "id": "62a4e6c4"
   },
   "source": [
    "## Train model"
   ]
  },
  {
   "cell_type": "code",
   "execution_count": 13,
   "id": "f7448396",
   "metadata": {
    "colab": {
     "base_uri": "https://localhost:8080/",
     "height": 654
    },
    "execution": {
     "iopub.execute_input": "2022-08-09T15:27:06.185182Z",
     "iopub.status.busy": "2022-08-09T15:27:06.184971Z",
     "iopub.status.idle": "2022-08-09T15:27:47.390250Z",
     "shell.execute_reply": "2022-08-09T15:27:47.389507Z"
    },
    "id": "f7448396",
    "outputId": "d9234591-3ba2-4a07-b4f0-1c0c3f340765",
    "papermill": {
     "duration": 41.217054,
     "end_time": "2022-08-09T15:27:47.398794",
     "exception": false,
     "start_time": "2022-08-09T15:27:06.181740",
     "status": "completed"
    },
    "tags": []
   },
   "outputs": [
    {
     "name": "stdout",
     "output_type": "stream",
     "text": [
      "Training log\n",
      "Split 0: 1683 observations for training / 188 observations for validation\n",
      "f1: 0.41, kappa: 0.29\n",
      "Split 1: 1684 observations for training / 187 observations for validation\n",
      "f1: 0.43, kappa: 0.29\n",
      "Split 2: 1684 observations for training / 187 observations for validation\n",
      "f1: 0.43, kappa: 0.30\n",
      "Split 3: 1684 observations for training / 187 observations for validation\n",
      "f1: 0.44, kappa: 0.31\n",
      "Split 4: 1684 observations for training / 187 observations for validation\n",
      "f1: 0.45, kappa: 0.32\n",
      "Split 5: 1684 observations for training / 187 observations for validation\n",
      "f1: 0.46, kappa: 0.33\n",
      "Split 6: 1684 observations for training / 187 observations for validation\n",
      "f1: 0.46, kappa: 0.33\n",
      "Split 7: 1684 observations for training / 187 observations for validation\n",
      "f1: 0.47, kappa: 0.34\n",
      "Split 8: 1684 observations for training / 187 observations for validation\n",
      "f1: 0.49, kappa: 0.36\n",
      "Split 9: 1684 observations for training / 187 observations for validation\n",
      "f1: 0.48, kappa: 0.36\n"
     ]
    }
   ],
   "source": [
    "df_results = pd.DataFrame()\n",
    "\n",
    "x_test = df_test[[\"id\"]].merge(df_embeddings, how=\"inner\", on=\"id\").drop(columns=\"id\")\n",
    "df_label = df[[\"id\", col_target]].merge(df_embeddings, how=\"inner\", on=\"id\").drop(columns=\"id\")\n",
    "\n",
    "le = LabelEncoder()\n",
    "le.fit(df_label[col_target])\n",
    "#joblib.dump(le, ARTIFACTS_PATH + f\"{col_target}/label_encoder.joblib\")\n",
    "\n",
    "df_label = df_label.sample(frac=1).reset_index(drop=True).dropna()\n",
    "df_label[\"kfold\"] = -1\n",
    "\n",
    "kf = StratifiedKFold(n_splits=10)\n",
    "\n",
    "for f, (t, v) in enumerate(kf.split(X=df_label, y=df_label[col_target])):\n",
    "    df_label.loc[v, \"kfold\"] = f\n",
    "\n",
    "f1_scores = []\n",
    "kappa_scores = []\n",
    "precision_scores = []\n",
    "recall_scores = []\n",
    "acc_scores = []\n",
    "test_preds = []\n",
    "\n",
    "print(f\"Training {model_name}\")\n",
    "for f in range(n_splits):\n",
    "    df_train = df_label[df_label.kfold != f].reset_index(drop=True)\n",
    "    df_val = df_label[df_label.kfold == f].reset_index(drop=True)\n",
    "    \n",
    "    print(f\"Split {f}: {df_train.shape[0]} observations for training / {df_val.shape[0]} observations for validation\")\n",
    "    x_train = df_train.iloc[:, 1:-1]\n",
    "    x_val = df_val.iloc[:, 1:-1]\n",
    "    y_train = le.transform(df_train[col_target])\n",
    "    y_val = le.transform(df_val[col_target])\n",
    "\n",
    "    if run_hyperparams_search:\n",
    "        space = get_hyperparams_space(model_name)\n",
    "        cv_inner = StratifiedKFold(n_splits=3, shuffle=True)\n",
    "        search = GridSearchCV(get_model(model_name), space, scoring='f1_macro', cv=cv_inner, refit=True)\n",
    "        result = search.fit(x_train, y_train)\n",
    "        model = result.best_estimator_\n",
    "    else:\n",
    "          model = get_model(model_name)\n",
    "    \n",
    "    #joblib.dump(model, ARTIFACTS_PATH + f\"{col_target}/model_{model_name}_{f}.joblib\")\n",
    "\n",
    "    model.fit(x_train, y_train)\n",
    "    preds = model.predict(x_val)\n",
    "    test_preds.append(model.predict(x_test)) \n",
    "\n",
    "    f1_scores.append(f1_score(y_val, preds, average=\"macro\"))\n",
    "    kappa_scores.append(cohen_kappa_score(y_val, preds))\n",
    "    precision_scores.append(precision_score(y_val, preds, average=\"macro\"))\n",
    "    recall_scores.append(recall_score(y_val, preds, average=\"macro\"))\n",
    "    print(f\"f1: {np.mean(f1_scores):.2f}, kappa: {np.mean(kappa_scores):.2f}\")\n",
    "    \n",
    "df_results = pd.concat(\n",
    "    [df_results, \n",
    "      pd.DataFrame(\n",
    "          dict(\n",
    "              target=col_target,\n",
    "              model=[model_name],\n",
    "              f1=np.mean(f1_scores),\n",
    "              kappa=np.mean(kappa_scores),\n",
    "              precision=np.mean(precision_scores),\n",
    "              recall=np.mean(recall_scores),\n",
    "              f1_scores=str([round(s, 2) for s in f1_scores]),\n",
    "              kappa_scores=str([round(s, 2) for s in kappa_scores]),\n",
    "              precision_scores=str([round(s, 2) for s in precision_scores]),\n",
    "              recall_scores=str([round(s, 2) for s in recall_scores]),\n",
    "          )\n",
    "        )\n",
    "])"
   ]
  },
  {
   "cell_type": "code",
   "execution_count": 14,
   "id": "abbd9926",
   "metadata": {},
   "outputs": [],
   "source": [
    "labels = list(df.label.unique())\n"
   ]
  },
  {
   "cell_type": "code",
   "execution_count": 15,
   "id": "9570a892",
   "metadata": {},
   "outputs": [
    {
     "data": {
      "text/plain": [
       "['expresivo',\n",
       " 'entretenido',\n",
       " 'informativo_demandante',\n",
       " 'informativo_colaborador',\n",
       " 'destructivo']"
      ]
     },
     "execution_count": 15,
     "metadata": {},
     "output_type": "execute_result"
    }
   ],
   "source": [
    "labels"
   ]
  },
  {
   "cell_type": "code",
   "execution_count": 16,
   "id": "a25ecaa3",
   "metadata": {},
   "outputs": [],
   "source": [
    "lab_enconde = le.fit_transform(labels)"
   ]
  },
  {
   "cell_type": "code",
   "execution_count": 17,
   "id": "1e4f45eb",
   "metadata": {},
   "outputs": [
    {
     "data": {
      "text/plain": [
       "{2: 'expresivo',\n",
       " 1: 'entretenido',\n",
       " 4: 'informativo_demandante',\n",
       " 3: 'informativo_colaborador',\n",
       " 0: 'destructivo'}"
      ]
     },
     "execution_count": 17,
     "metadata": {},
     "output_type": "execute_result"
    }
   ],
   "source": [
    "dictio_lab_encond = dict(zip(lab_enconde,labels))\n",
    "dictio_lab_encond"
   ]
  },
  {
   "cell_type": "code",
   "execution_count": 18,
   "id": "f482cc88",
   "metadata": {},
   "outputs": [
    {
     "data": {
      "text/html": [
       "<div>\n",
       "<style scoped>\n",
       "    .dataframe tbody tr th:only-of-type {\n",
       "        vertical-align: middle;\n",
       "    }\n",
       "\n",
       "    .dataframe tbody tr th {\n",
       "        vertical-align: top;\n",
       "    }\n",
       "\n",
       "    .dataframe thead th {\n",
       "        text-align: right;\n",
       "    }\n",
       "</style>\n",
       "<table border=\"1\" class=\"dataframe\">\n",
       "  <thead>\n",
       "    <tr style=\"text-align: right;\">\n",
       "      <th></th>\n",
       "      <th>0</th>\n",
       "    </tr>\n",
       "  </thead>\n",
       "  <tbody>\n",
       "    <tr>\n",
       "      <th>target</th>\n",
       "      <td>label</td>\n",
       "    </tr>\n",
       "    <tr>\n",
       "      <th>model</th>\n",
       "      <td>log</td>\n",
       "    </tr>\n",
       "    <tr>\n",
       "      <th>f1</th>\n",
       "      <td>0.484764</td>\n",
       "    </tr>\n",
       "    <tr>\n",
       "      <th>kappa</th>\n",
       "      <td>0.361125</td>\n",
       "    </tr>\n",
       "    <tr>\n",
       "      <th>precision</th>\n",
       "      <td>0.475917</td>\n",
       "    </tr>\n",
       "    <tr>\n",
       "      <th>recall</th>\n",
       "      <td>0.503399</td>\n",
       "    </tr>\n",
       "    <tr>\n",
       "      <th>f1_scores</th>\n",
       "      <td>[0.41, 0.45, 0.44, 0.46, 0.5, 0.5, 0.49, 0.53, 0.6, 0.47]</td>\n",
       "    </tr>\n",
       "    <tr>\n",
       "      <th>kappa_scores</th>\n",
       "      <td>[0.29, 0.3, 0.32, 0.32, 0.38, 0.37, 0.37, 0.41, 0.49, 0.36]</td>\n",
       "    </tr>\n",
       "    <tr>\n",
       "      <th>precision_scores</th>\n",
       "      <td>[0.41, 0.46, 0.43, 0.45, 0.49, 0.49, 0.48, 0.52, 0.58, 0.47]</td>\n",
       "    </tr>\n",
       "    <tr>\n",
       "      <th>recall_scores</th>\n",
       "      <td>[0.43, 0.46, 0.45, 0.47, 0.53, 0.53, 0.51, 0.55, 0.63, 0.47]</td>\n",
       "    </tr>\n",
       "  </tbody>\n",
       "</table>\n",
       "</div>"
      ],
      "text/plain": [
       "                                                                             0\n",
       "target                                                                   label\n",
       "model                                                                      log\n",
       "f1                                                                    0.484764\n",
       "kappa                                                                 0.361125\n",
       "precision                                                             0.475917\n",
       "recall                                                                0.503399\n",
       "f1_scores            [0.41, 0.45, 0.44, 0.46, 0.5, 0.5, 0.49, 0.53, 0.6, 0.47]\n",
       "kappa_scores       [0.29, 0.3, 0.32, 0.32, 0.38, 0.37, 0.37, 0.41, 0.49, 0.36]\n",
       "precision_scores  [0.41, 0.46, 0.43, 0.45, 0.49, 0.49, 0.48, 0.52, 0.58, 0.47]\n",
       "recall_scores     [0.43, 0.46, 0.45, 0.47, 0.53, 0.53, 0.51, 0.55, 0.63, 0.47]"
      ]
     },
     "execution_count": 18,
     "metadata": {},
     "output_type": "execute_result"
    }
   ],
   "source": [
    "df_results.T"
   ]
  },
  {
   "cell_type": "markdown",
   "id": "90b9a2db",
   "metadata": {
    "id": "90b9a2db"
   },
   "source": [
    "## Save results"
   ]
  },
  {
   "cell_type": "code",
   "execution_count": 20,
   "id": "966fc616",
   "metadata": {
    "id": "966fc616"
   },
   "outputs": [],
   "source": [
    "results_path = DATA_PATH + f\"results_citizens_{model_name}.csv\"\n",
    "if run_hyperparams_search:\n",
    "    results_path = DATA_PATH + f\"results_best_hyperparams_{model_name}.csv\"\n",
    "df_results.to_csv(results_path, mode='a', header=not os.path.exists(results_path), index=False)"
   ]
  },
  {
   "cell_type": "code",
   "execution_count": 21,
   "id": "sviug2NojL07",
   "metadata": {
    "execution": {
     "iopub.execute_input": "2022-08-09T15:27:47.449536Z",
     "iopub.status.busy": "2022-08-09T15:27:47.449212Z",
     "iopub.status.idle": "2022-08-09T15:27:47.459271Z",
     "shell.execute_reply": "2022-08-09T15:27:47.458654Z"
    },
    "id": "sviug2NojL07",
    "papermill": {
     "duration": 0.020919,
     "end_time": "2022-08-09T15:27:47.460977",
     "exception": false,
     "start_time": "2022-08-09T15:27:47.440058",
     "status": "completed"
    },
    "tags": []
   },
   "outputs": [
    {
     "data": {
      "text/plain": [
       "expresivo                  0.480404\n",
       "informativo_colaborador    0.198337\n",
       "informativo_demandante     0.135392\n",
       "destructivo                0.098575\n",
       "entretenido                0.087292\n",
       "Name: label, dtype: float64"
      ]
     },
     "execution_count": 21,
     "metadata": {},
     "output_type": "execute_result"
    }
   ],
   "source": [
    "df_train[col_target].value_counts(normalize=True)"
   ]
  },
  {
   "cell_type": "code",
   "execution_count": 22,
   "id": "SssN5ylZQP47",
   "metadata": {
    "execution": {
     "iopub.execute_input": "2022-08-09T15:27:47.482347Z",
     "iopub.status.busy": "2022-08-09T15:27:47.482113Z",
     "iopub.status.idle": "2022-08-09T15:27:47.696083Z",
     "shell.execute_reply": "2022-08-09T15:27:47.695639Z"
    },
    "id": "SssN5ylZQP47",
    "papermill": {
     "duration": 0.220471,
     "end_time": "2022-08-09T15:27:47.697875",
     "exception": false,
     "start_time": "2022-08-09T15:27:47.477404",
     "status": "completed"
    },
    "tags": []
   },
   "outputs": [
    {
     "data": {
      "text/plain": [
       "expresivo                  0.479167\n",
       "informativo_colaborador    0.179487\n",
       "informativo_demandante     0.165064\n",
       "destructivo                0.092949\n",
       "entretenido                0.083333\n",
       "Name: label, dtype: float64"
      ]
     },
     "execution_count": 22,
     "metadata": {},
     "output_type": "execute_result"
    }
   ],
   "source": [
    "df_test[col_target] = le.inverse_transform(get_mode_rows(test_preds))\n",
    "df_test[\"label\"] = df_test[col_target]\n",
    "df_test[col_target].value_counts(normalize=True)"
   ]
  },
  {
   "cell_type": "code",
   "execution_count": 23,
   "id": "53992c6f",
   "metadata": {
    "scrolled": true
   },
   "outputs": [
    {
     "data": {
      "text/html": [
       "<style>#sk-container-id-1 {color: black;background-color: white;}#sk-container-id-1 pre{padding: 0;}#sk-container-id-1 div.sk-toggleable {background-color: white;}#sk-container-id-1 label.sk-toggleable__label {cursor: pointer;display: block;width: 100%;margin-bottom: 0;padding: 0.3em;box-sizing: border-box;text-align: center;}#sk-container-id-1 label.sk-toggleable__label-arrow:before {content: \"▸\";float: left;margin-right: 0.25em;color: #696969;}#sk-container-id-1 label.sk-toggleable__label-arrow:hover:before {color: black;}#sk-container-id-1 div.sk-estimator:hover label.sk-toggleable__label-arrow:before {color: black;}#sk-container-id-1 div.sk-toggleable__content {max-height: 0;max-width: 0;overflow: hidden;text-align: left;background-color: #f0f8ff;}#sk-container-id-1 div.sk-toggleable__content pre {margin: 0.2em;color: black;border-radius: 0.25em;background-color: #f0f8ff;}#sk-container-id-1 input.sk-toggleable__control:checked~div.sk-toggleable__content {max-height: 200px;max-width: 100%;overflow: auto;}#sk-container-id-1 input.sk-toggleable__control:checked~label.sk-toggleable__label-arrow:before {content: \"▾\";}#sk-container-id-1 div.sk-estimator input.sk-toggleable__control:checked~label.sk-toggleable__label {background-color: #d4ebff;}#sk-container-id-1 div.sk-label input.sk-toggleable__control:checked~label.sk-toggleable__label {background-color: #d4ebff;}#sk-container-id-1 input.sk-hidden--visually {border: 0;clip: rect(1px 1px 1px 1px);clip: rect(1px, 1px, 1px, 1px);height: 1px;margin: -1px;overflow: hidden;padding: 0;position: absolute;width: 1px;}#sk-container-id-1 div.sk-estimator {font-family: monospace;background-color: #f0f8ff;border: 1px dotted black;border-radius: 0.25em;box-sizing: border-box;margin-bottom: 0.5em;}#sk-container-id-1 div.sk-estimator:hover {background-color: #d4ebff;}#sk-container-id-1 div.sk-parallel-item::after {content: \"\";width: 100%;border-bottom: 1px solid gray;flex-grow: 1;}#sk-container-id-1 div.sk-label:hover label.sk-toggleable__label {background-color: #d4ebff;}#sk-container-id-1 div.sk-serial::before {content: \"\";position: absolute;border-left: 1px solid gray;box-sizing: border-box;top: 0;bottom: 0;left: 50%;z-index: 0;}#sk-container-id-1 div.sk-serial {display: flex;flex-direction: column;align-items: center;background-color: white;padding-right: 0.2em;padding-left: 0.2em;position: relative;}#sk-container-id-1 div.sk-item {position: relative;z-index: 1;}#sk-container-id-1 div.sk-parallel {display: flex;align-items: stretch;justify-content: center;background-color: white;position: relative;}#sk-container-id-1 div.sk-item::before, #sk-container-id-1 div.sk-parallel-item::before {content: \"\";position: absolute;border-left: 1px solid gray;box-sizing: border-box;top: 0;bottom: 0;left: 50%;z-index: -1;}#sk-container-id-1 div.sk-parallel-item {display: flex;flex-direction: column;z-index: 1;position: relative;background-color: white;}#sk-container-id-1 div.sk-parallel-item:first-child::after {align-self: flex-end;width: 50%;}#sk-container-id-1 div.sk-parallel-item:last-child::after {align-self: flex-start;width: 50%;}#sk-container-id-1 div.sk-parallel-item:only-child::after {width: 0;}#sk-container-id-1 div.sk-dashed-wrapped {border: 1px dashed gray;margin: 0 0.4em 0.5em 0.4em;box-sizing: border-box;padding-bottom: 0.4em;background-color: white;}#sk-container-id-1 div.sk-label label {font-family: monospace;font-weight: bold;display: inline-block;line-height: 1.2em;}#sk-container-id-1 div.sk-label-container {text-align: center;}#sk-container-id-1 div.sk-container {/* jupyter's `normalize.less` sets `[hidden] { display: none; }` but bootstrap.min.css set `[hidden] { display: none !important; }` so we also need the `!important` here to be able to override the default hidden behavior on the sphinx rendered scikit-learn.org. See: https://github.com/scikit-learn/scikit-learn/issues/21755 */display: inline-block !important;position: relative;}#sk-container-id-1 div.sk-text-repr-fallback {display: none;}</style><div id=\"sk-container-id-1\" class=\"sk-top-container\"><div class=\"sk-text-repr-fallback\"><pre>LogisticRegression(C=0.01, class_weight=&#x27;balanced&#x27;, solver=&#x27;liblinear&#x27;)</pre><b>In a Jupyter environment, please rerun this cell to show the HTML representation or trust the notebook. <br />On GitHub, the HTML representation is unable to render, please try loading this page with nbviewer.org.</b></div><div class=\"sk-container\" hidden><div class=\"sk-item\"><div class=\"sk-estimator sk-toggleable\"><input class=\"sk-toggleable__control sk-hidden--visually\" id=\"sk-estimator-id-1\" type=\"checkbox\" checked><label for=\"sk-estimator-id-1\" class=\"sk-toggleable__label sk-toggleable__label-arrow\">LogisticRegression</label><div class=\"sk-toggleable__content\"><pre>LogisticRegression(C=0.01, class_weight=&#x27;balanced&#x27;, solver=&#x27;liblinear&#x27;)</pre></div></div></div></div></div>"
      ],
      "text/plain": [
       "LogisticRegression(C=0.01, class_weight='balanced', solver='liblinear')"
      ]
     },
     "execution_count": 23,
     "metadata": {},
     "output_type": "execute_result"
    }
   ],
   "source": [
    "model.fit(df_embeddings.iloc[:,1:-1], df_full.label)"
   ]
  },
  {
   "cell_type": "code",
   "execution_count": 24,
   "id": "abcbf7a0",
   "metadata": {},
   "outputs": [],
   "source": [
    "all_preds = model.predict(df_embeddings.iloc[:,1:-1])"
   ]
  },
  {
   "cell_type": "code",
   "execution_count": 25,
   "id": "c7c0f370",
   "metadata": {},
   "outputs": [
    {
     "data": {
      "text/plain": [
       "0.6588809217140985"
      ]
     },
     "execution_count": 25,
     "metadata": {},
     "output_type": "execute_result"
    }
   ],
   "source": [
    "f1_score(all_preds, df_full.label, average='macro')"
   ]
  },
  {
   "cell_type": "code",
   "execution_count": 54,
   "id": "30533aad",
   "metadata": {
    "execution": {
     "iopub.execute_input": "2022-08-09T15:27:47.709105Z",
     "iopub.status.busy": "2022-08-09T15:27:47.708692Z",
     "iopub.status.idle": "2022-08-09T15:27:47.745356Z",
     "shell.execute_reply": "2022-08-09T15:27:47.744803Z"
    },
    "id": "30533aad",
    "papermill": {
     "duration": 0.044453,
     "end_time": "2022-08-09T15:27:47.746979",
     "exception": false,
     "start_time": "2022-08-09T15:27:47.702526",
     "status": "completed"
    },
    "tags": []
   },
   "outputs": [
    {
     "data": {
      "text/plain": [
       "(584685, 30)"
      ]
     },
     "execution_count": 54,
     "metadata": {},
     "output_type": "execute_result"
    }
   ],
   "source": [
    "all_tweets = pd.read_csv('../../../../tweets_data/all_citizens_joined.csv')\n",
    "all_tweets.shape"
   ]
  },
  {
   "cell_type": "code",
   "execution_count": 55,
   "id": "eeb3c3d2",
   "metadata": {},
   "outputs": [],
   "source": [
    "all_es = all_tweets.loc[all_tweets.lang=='es'][['id tweet', 'text']]\n",
    "\n",
    "all_es.reset_index(drop=True, inplace=True)"
   ]
  },
  {
   "cell_type": "code",
   "execution_count": 56,
   "id": "ed1a65e0",
   "metadata": {},
   "outputs": [
    {
     "name": "stdout",
     "output_type": "stream",
     "text": [
      "<class 'pandas.core.frame.DataFrame'>\n",
      "RangeIndex: 454748 entries, 0 to 454747\n",
      "Data columns (total 2 columns):\n",
      " #   Column    Non-Null Count   Dtype \n",
      "---  ------    --------------   ----- \n",
      " 0   id tweet  454748 non-null  int64 \n",
      " 1   text      454748 non-null  object\n",
      "dtypes: int64(1), object(1)\n",
      "memory usage: 6.9+ MB\n"
     ]
    }
   ],
   "source": [
    "all_es.info()"
   ]
  },
  {
   "cell_type": "code",
   "execution_count": 35,
   "id": "42240810",
   "metadata": {},
   "outputs": [],
   "source": [
    "if use_precalculated_embeddings:\n",
    "    df_embeddings_es = pd.read_csv('../../../../tweets_data/all_citizens_joined_embeddings.csv')\n",
    "else:\n",
    "    from sentence_transformers import SentenceTransformer\n",
    "    cleaned_tweets = [clean_text(tweet) for tweet in tqdm(all_es.text)]\n",
    "    \n",
    "    model = SentenceTransformer('hiiamsid/sentence_similarity_spanish_es')\n",
    "    embeddings_es = model.encode(cleaned_tweets)\n",
    "\n",
    "    df_embeddings_es = pd.concat([all_es[\"id tweet\"], pd.DataFrame(embeddings)], axis=1)"
   ]
  },
  {
   "cell_type": "code",
   "execution_count": 37,
   "id": "5ebf89a1",
   "metadata": {},
   "outputs": [
    {
     "data": {
      "text/plain": [
       "(454748, 769)"
      ]
     },
     "execution_count": 37,
     "metadata": {},
     "output_type": "execute_result"
    }
   ],
   "source": [
    "df_embeddings_es.shape"
   ]
  },
  {
   "cell_type": "code",
   "execution_count": 39,
   "id": "ca9048e3",
   "metadata": {},
   "outputs": [
    {
     "data": {
      "text/html": [
       "<div>\n",
       "<style scoped>\n",
       "    .dataframe tbody tr th:only-of-type {\n",
       "        vertical-align: middle;\n",
       "    }\n",
       "\n",
       "    .dataframe tbody tr th {\n",
       "        vertical-align: top;\n",
       "    }\n",
       "\n",
       "    .dataframe thead th {\n",
       "        text-align: right;\n",
       "    }\n",
       "</style>\n",
       "<table border=\"1\" class=\"dataframe\">\n",
       "  <thead>\n",
       "    <tr style=\"text-align: right;\">\n",
       "      <th></th>\n",
       "      <th>id tweet</th>\n",
       "      <th>0</th>\n",
       "      <th>1</th>\n",
       "      <th>2</th>\n",
       "      <th>3</th>\n",
       "      <th>4</th>\n",
       "      <th>5</th>\n",
       "      <th>6</th>\n",
       "      <th>7</th>\n",
       "      <th>8</th>\n",
       "      <th>...</th>\n",
       "      <th>758</th>\n",
       "      <th>759</th>\n",
       "      <th>760</th>\n",
       "      <th>761</th>\n",
       "      <th>762</th>\n",
       "      <th>763</th>\n",
       "      <th>764</th>\n",
       "      <th>765</th>\n",
       "      <th>766</th>\n",
       "      <th>767</th>\n",
       "    </tr>\n",
       "  </thead>\n",
       "  <tbody>\n",
       "    <tr>\n",
       "      <th>0</th>\n",
       "      <td>1535395134686240774</td>\n",
       "      <td>0.906994</td>\n",
       "      <td>0.230015</td>\n",
       "      <td>0.775082</td>\n",
       "      <td>-0.244691</td>\n",
       "      <td>-0.149994</td>\n",
       "      <td>-0.698744</td>\n",
       "      <td>0.375754</td>\n",
       "      <td>-1.003181</td>\n",
       "      <td>0.230185</td>\n",
       "      <td>...</td>\n",
       "      <td>-0.178782</td>\n",
       "      <td>0.160151</td>\n",
       "      <td>0.261129</td>\n",
       "      <td>0.163880</td>\n",
       "      <td>0.320013</td>\n",
       "      <td>-0.562562</td>\n",
       "      <td>0.068671</td>\n",
       "      <td>0.154549</td>\n",
       "      <td>-0.761191</td>\n",
       "      <td>-0.299566</td>\n",
       "    </tr>\n",
       "    <tr>\n",
       "      <th>1</th>\n",
       "      <td>1535395568998129666</td>\n",
       "      <td>0.449592</td>\n",
       "      <td>-0.146677</td>\n",
       "      <td>-0.915937</td>\n",
       "      <td>-0.347452</td>\n",
       "      <td>-0.109174</td>\n",
       "      <td>-0.194892</td>\n",
       "      <td>1.335919</td>\n",
       "      <td>-0.014602</td>\n",
       "      <td>0.619942</td>\n",
       "      <td>...</td>\n",
       "      <td>0.066316</td>\n",
       "      <td>0.456723</td>\n",
       "      <td>-0.269764</td>\n",
       "      <td>0.193559</td>\n",
       "      <td>-0.508561</td>\n",
       "      <td>-0.582981</td>\n",
       "      <td>-0.373798</td>\n",
       "      <td>-0.039058</td>\n",
       "      <td>0.071571</td>\n",
       "      <td>0.508146</td>\n",
       "    </tr>\n",
       "    <tr>\n",
       "      <th>2</th>\n",
       "      <td>1535395648509460480</td>\n",
       "      <td>-0.202093</td>\n",
       "      <td>0.290053</td>\n",
       "      <td>-0.127502</td>\n",
       "      <td>-0.391537</td>\n",
       "      <td>-0.273759</td>\n",
       "      <td>0.441322</td>\n",
       "      <td>0.972044</td>\n",
       "      <td>0.107094</td>\n",
       "      <td>-0.077597</td>\n",
       "      <td>...</td>\n",
       "      <td>-0.218865</td>\n",
       "      <td>-0.934736</td>\n",
       "      <td>0.344583</td>\n",
       "      <td>-0.098832</td>\n",
       "      <td>-0.076999</td>\n",
       "      <td>-0.730442</td>\n",
       "      <td>-0.578819</td>\n",
       "      <td>-0.798397</td>\n",
       "      <td>1.176301</td>\n",
       "      <td>0.352648</td>\n",
       "    </tr>\n",
       "    <tr>\n",
       "      <th>3</th>\n",
       "      <td>1535395809054826496</td>\n",
       "      <td>0.264822</td>\n",
       "      <td>0.015052</td>\n",
       "      <td>0.155617</td>\n",
       "      <td>-0.099980</td>\n",
       "      <td>-0.097115</td>\n",
       "      <td>0.492960</td>\n",
       "      <td>0.780404</td>\n",
       "      <td>0.864955</td>\n",
       "      <td>-0.580162</td>\n",
       "      <td>...</td>\n",
       "      <td>0.200758</td>\n",
       "      <td>-0.258619</td>\n",
       "      <td>-0.177287</td>\n",
       "      <td>-0.012658</td>\n",
       "      <td>-0.394453</td>\n",
       "      <td>-0.580247</td>\n",
       "      <td>0.303021</td>\n",
       "      <td>-0.969682</td>\n",
       "      <td>-0.068528</td>\n",
       "      <td>0.265391</td>\n",
       "    </tr>\n",
       "    <tr>\n",
       "      <th>4</th>\n",
       "      <td>1535395920866689025</td>\n",
       "      <td>0.458823</td>\n",
       "      <td>-0.249472</td>\n",
       "      <td>-0.089871</td>\n",
       "      <td>-0.261616</td>\n",
       "      <td>-0.205998</td>\n",
       "      <td>-0.323839</td>\n",
       "      <td>0.071756</td>\n",
       "      <td>-0.636309</td>\n",
       "      <td>-0.126110</td>\n",
       "      <td>...</td>\n",
       "      <td>0.489663</td>\n",
       "      <td>0.061293</td>\n",
       "      <td>0.160667</td>\n",
       "      <td>0.264908</td>\n",
       "      <td>-0.199654</td>\n",
       "      <td>-0.452748</td>\n",
       "      <td>-0.497668</td>\n",
       "      <td>-0.234685</td>\n",
       "      <td>-0.442812</td>\n",
       "      <td>0.467232</td>\n",
       "    </tr>\n",
       "  </tbody>\n",
       "</table>\n",
       "<p>5 rows × 769 columns</p>\n",
       "</div>"
      ],
      "text/plain": [
       "              id tweet         0         1         2         3         4  \\\n",
       "0  1535395134686240774  0.906994  0.230015  0.775082 -0.244691 -0.149994   \n",
       "1  1535395568998129666  0.449592 -0.146677 -0.915937 -0.347452 -0.109174   \n",
       "2  1535395648509460480 -0.202093  0.290053 -0.127502 -0.391537 -0.273759   \n",
       "3  1535395809054826496  0.264822  0.015052  0.155617 -0.099980 -0.097115   \n",
       "4  1535395920866689025  0.458823 -0.249472 -0.089871 -0.261616 -0.205998   \n",
       "\n",
       "          5         6         7         8  ...       758       759       760  \\\n",
       "0 -0.698744  0.375754 -1.003181  0.230185  ... -0.178782  0.160151  0.261129   \n",
       "1 -0.194892  1.335919 -0.014602  0.619942  ...  0.066316  0.456723 -0.269764   \n",
       "2  0.441322  0.972044  0.107094 -0.077597  ... -0.218865 -0.934736  0.344583   \n",
       "3  0.492960  0.780404  0.864955 -0.580162  ...  0.200758 -0.258619 -0.177287   \n",
       "4 -0.323839  0.071756 -0.636309 -0.126110  ...  0.489663  0.061293  0.160667   \n",
       "\n",
       "        761       762       763       764       765       766       767  \n",
       "0  0.163880  0.320013 -0.562562  0.068671  0.154549 -0.761191 -0.299566  \n",
       "1  0.193559 -0.508561 -0.582981 -0.373798 -0.039058  0.071571  0.508146  \n",
       "2 -0.098832 -0.076999 -0.730442 -0.578819 -0.798397  1.176301  0.352648  \n",
       "3 -0.012658 -0.394453 -0.580247  0.303021 -0.969682 -0.068528  0.265391  \n",
       "4  0.264908 -0.199654 -0.452748 -0.497668 -0.234685 -0.442812  0.467232  \n",
       "\n",
       "[5 rows x 769 columns]"
      ]
     },
     "execution_count": 39,
     "metadata": {},
     "output_type": "execute_result"
    }
   ],
   "source": [
    "df_embeddings_es.head()"
   ]
  },
  {
   "cell_type": "code",
   "execution_count": 40,
   "id": "4f6571f5",
   "metadata": {},
   "outputs": [],
   "source": [
    "all_preds_es = model.predict(df_embeddings_es.iloc[:,1:-1])"
   ]
  },
  {
   "cell_type": "code",
   "execution_count": 41,
   "id": "a58ea3ee",
   "metadata": {},
   "outputs": [
    {
     "data": {
      "text/plain": [
       "array(['informativo_colaborador', 'informativo_demandante', 'expresivo',\n",
       "       ..., 'expresivo', 'informativo_colaborador',\n",
       "       'informativo_colaborador'], dtype=object)"
      ]
     },
     "execution_count": 41,
     "metadata": {},
     "output_type": "execute_result"
    }
   ],
   "source": [
    "all_preds_es"
   ]
  },
  {
   "cell_type": "code",
   "execution_count": 42,
   "id": "bc6ba82b",
   "metadata": {},
   "outputs": [],
   "source": [
    "all_preds_proba = model.predict_proba(df_embeddings_es.iloc[:,1:-1])"
   ]
  },
  {
   "cell_type": "code",
   "execution_count": 43,
   "id": "2cfa67a9",
   "metadata": {},
   "outputs": [],
   "source": [
    "lab_proba = [np.where(all_preds_proba[i] == all_preds_proba[i].max())[0][0] for i in range(len(all_preds_proba))]"
   ]
  },
  {
   "cell_type": "code",
   "execution_count": 44,
   "id": "a3309e5e",
   "metadata": {},
   "outputs": [],
   "source": [
    "all_es[col_target] = all_preds_es"
   ]
  },
  {
   "cell_type": "code",
   "execution_count": 45,
   "id": "b83c9713",
   "metadata": {},
   "outputs": [],
   "source": [
    "all_es['label_with_proba'] = lab_proba"
   ]
  },
  {
   "cell_type": "code",
   "execution_count": 46,
   "id": "f1ccdf81",
   "metadata": {},
   "outputs": [],
   "source": [
    "all_es['label_with_proba'] = all_es['label_with_proba'].apply(lambda x : dictio_lab_encond[x])"
   ]
  },
  {
   "cell_type": "code",
   "execution_count": 47,
   "id": "e85fc4cc",
   "metadata": {
    "scrolled": true
   },
   "outputs": [
    {
     "data": {
      "text/plain": [
       "expresivo                  0.388646\n",
       "informativo_colaborador    0.320769\n",
       "informativo_demandante     0.145320\n",
       "destructivo                0.088141\n",
       "entretenido                0.057124\n",
       "Name: label, dtype: float64"
      ]
     },
     "execution_count": 47,
     "metadata": {},
     "output_type": "execute_result"
    }
   ],
   "source": [
    "all_es.label.value_counts(normalize=True)"
   ]
  },
  {
   "cell_type": "code",
   "execution_count": 48,
   "id": "378e31c4",
   "metadata": {},
   "outputs": [
    {
     "data": {
      "text/plain": [
       "expresivo                  0.388646\n",
       "informativo_colaborador    0.320769\n",
       "informativo_demandante     0.145320\n",
       "destructivo                0.088141\n",
       "entretenido                0.057124\n",
       "Name: label_with_proba, dtype: float64"
      ]
     },
     "execution_count": 48,
     "metadata": {},
     "output_type": "execute_result"
    }
   ],
   "source": [
    "all_es.label_with_proba.value_counts(normalize=True)"
   ]
  },
  {
   "cell_type": "code",
   "execution_count": 49,
   "id": "ae1635ac",
   "metadata": {},
   "outputs": [
    {
     "data": {
      "text/plain": [
       "{2: 'expresivo',\n",
       " 1: 'entretenido',\n",
       " 4: 'informativo_demandante',\n",
       " 3: 'informativo_colaborador',\n",
       " 0: 'destructivo'}"
      ]
     },
     "execution_count": 49,
     "metadata": {},
     "output_type": "execute_result"
    }
   ],
   "source": [
    "dictio_lab_encond"
   ]
  },
  {
   "cell_type": "code",
   "execution_count": 50,
   "id": "4dbb7e9f",
   "metadata": {},
   "outputs": [],
   "source": [
    "labels_prob = ['destructivo_proba', 'entretenido_proba', 'expresivo_proba', 'informativo_colaborador_proba','informativo_demandante_proba']"
   ]
  },
  {
   "cell_type": "code",
   "execution_count": 51,
   "id": "809da5c8",
   "metadata": {},
   "outputs": [
    {
     "data": {
      "text/html": [
       "<div>\n",
       "<style scoped>\n",
       "    .dataframe tbody tr th:only-of-type {\n",
       "        vertical-align: middle;\n",
       "    }\n",
       "\n",
       "    .dataframe tbody tr th {\n",
       "        vertical-align: top;\n",
       "    }\n",
       "\n",
       "    .dataframe thead th {\n",
       "        text-align: right;\n",
       "    }\n",
       "</style>\n",
       "<table border=\"1\" class=\"dataframe\">\n",
       "  <thead>\n",
       "    <tr style=\"text-align: right;\">\n",
       "      <th></th>\n",
       "      <th>id tweet</th>\n",
       "      <th>text</th>\n",
       "      <th>label</th>\n",
       "      <th>label_with_proba</th>\n",
       "      <th>destructivo_proba</th>\n",
       "      <th>entretenido_proba</th>\n",
       "      <th>expresivo_proba</th>\n",
       "      <th>informativo_colaborador_proba</th>\n",
       "      <th>informativo_demandante_proba</th>\n",
       "    </tr>\n",
       "  </thead>\n",
       "  <tbody>\n",
       "    <tr>\n",
       "      <th>0</th>\n",
       "      <td>1535395134686240774</td>\n",
       "      <td>. @alicanteayto tendrá uno de los cuatro centros puestos en marcha por  @CEOE_ES para ofrecer orientación de empleo a ucranianos @CEV_CV @Boronavarro ☛  https://t.co/u3Lk2c4XrX #mediterráneopress #tudiariodigital #comunitatvalenciana #política #economía #empresa #ciudades</td>\n",
       "      <td>informativo_colaborador</td>\n",
       "      <td>informativo_colaborador</td>\n",
       "      <td>0.183393</td>\n",
       "      <td>0.057162</td>\n",
       "      <td>0.147906</td>\n",
       "      <td>0.543856</td>\n",
       "      <td>0.067682</td>\n",
       "    </tr>\n",
       "    <tr>\n",
       "      <th>1</th>\n",
       "      <td>1535395568998129666</td>\n",
       "      <td>RT @MCMVALVANERA: @policiademadrid @Lineamadrid @MADRID @begonavillacis @AlmeidaPP_ ALONSO CANO 55 \"El Cafecito\" , 20:30 de esta tarde. Ocupacion incluso del espacio del arbol. HAGAN ALGO!! https://t.co/p1DEMYnHDJ</td>\n",
       "      <td>informativo_demandante</td>\n",
       "      <td>informativo_demandante</td>\n",
       "      <td>0.108868</td>\n",
       "      <td>0.106246</td>\n",
       "      <td>0.174866</td>\n",
       "      <td>0.246129</td>\n",
       "      <td>0.363890</td>\n",
       "    </tr>\n",
       "    <tr>\n",
       "      <th>2</th>\n",
       "      <td>1535395648509460480</td>\n",
       "      <td>@anavas14 @ComunidadMadrid @MADRID No hay derecho. Mas condena cruel. Sin escoletas, alguien se quedara en casa sin trabajar, menguaran los ingresos. Y la gente ya en la cuerda floja se precarizará mas....    ¿ Es esta vida la que defienden l@s Ayuso ?</td>\n",
       "      <td>expresivo</td>\n",
       "      <td>expresivo</td>\n",
       "      <td>0.157644</td>\n",
       "      <td>0.034500</td>\n",
       "      <td>0.495863</td>\n",
       "      <td>0.017097</td>\n",
       "      <td>0.294896</td>\n",
       "    </tr>\n",
       "    <tr>\n",
       "      <th>3</th>\n",
       "      <td>1535395809054826496</td>\n",
       "      <td>@Enfinqueridapi1 @_joelmar @ChanelTerrero @santacruz_ayto Dos horas que tendría al publico disfrutando!</td>\n",
       "      <td>expresivo</td>\n",
       "      <td>expresivo</td>\n",
       "      <td>0.081676</td>\n",
       "      <td>0.104396</td>\n",
       "      <td>0.726476</td>\n",
       "      <td>0.043409</td>\n",
       "      <td>0.044043</td>\n",
       "    </tr>\n",
       "    <tr>\n",
       "      <th>4</th>\n",
       "      <td>1535395920866689025</td>\n",
       "      <td>RT @19MarioCava93: En el @CDPuebladeSoto jugamos al escondite cada vez que un balón se pierde por línea de banda (contraria a la de los banquillos). ¿Os apetece jugar al escondite con nosotros o le ponemos solución a esto ya? @rex_pedro @murciadeportes @SerranoJAntonio @AytoMurcia https://t.co/p9VjwXNvMm</td>\n",
       "      <td>informativo_colaborador</td>\n",
       "      <td>informativo_colaborador</td>\n",
       "      <td>0.063183</td>\n",
       "      <td>0.122499</td>\n",
       "      <td>0.249059</td>\n",
       "      <td>0.354419</td>\n",
       "      <td>0.210841</td>\n",
       "    </tr>\n",
       "  </tbody>\n",
       "</table>\n",
       "</div>"
      ],
      "text/plain": [
       "              id tweet  \\\n",
       "0  1535395134686240774   \n",
       "1  1535395568998129666   \n",
       "2  1535395648509460480   \n",
       "3  1535395809054826496   \n",
       "4  1535395920866689025   \n",
       "\n",
       "                                                                                                                                                                                                                                                                                                                text  \\\n",
       "0                                   . @alicanteayto tendrá uno de los cuatro centros puestos en marcha por  @CEOE_ES para ofrecer orientación de empleo a ucranianos @CEV_CV @Boronavarro ☛  https://t.co/u3Lk2c4XrX #mediterráneopress #tudiariodigital #comunitatvalenciana #política #economía #empresa #ciudades   \n",
       "1                                                                                              RT @MCMVALVANERA: @policiademadrid @Lineamadrid @MADRID @begonavillacis @AlmeidaPP_ ALONSO CANO 55 \"El Cafecito\" , 20:30 de esta tarde. Ocupacion incluso del espacio del arbol. HAGAN ALGO!! https://t.co/p1DEMYnHDJ   \n",
       "2                                                       @anavas14 @ComunidadMadrid @MADRID No hay derecho. Mas condena cruel. Sin escoletas, alguien se quedara en casa sin trabajar, menguaran los ingresos. Y la gente ya en la cuerda floja se precarizará mas....    ¿ Es esta vida la que defienden l@s Ayuso ?   \n",
       "3                                                                                                                                                                                                            @Enfinqueridapi1 @_joelmar @ChanelTerrero @santacruz_ayto Dos horas que tendría al publico disfrutando!   \n",
       "4  RT @19MarioCava93: En el @CDPuebladeSoto jugamos al escondite cada vez que un balón se pierde por línea de banda (contraria a la de los banquillos). ¿Os apetece jugar al escondite con nosotros o le ponemos solución a esto ya? @rex_pedro @murciadeportes @SerranoJAntonio @AytoMurcia https://t.co/p9VjwXNvMm   \n",
       "\n",
       "                     label         label_with_proba  destructivo_proba  \\\n",
       "0  informativo_colaborador  informativo_colaborador           0.183393   \n",
       "1   informativo_demandante   informativo_demandante           0.108868   \n",
       "2                expresivo                expresivo           0.157644   \n",
       "3                expresivo                expresivo           0.081676   \n",
       "4  informativo_colaborador  informativo_colaborador           0.063183   \n",
       "\n",
       "   entretenido_proba  expresivo_proba  informativo_colaborador_proba  \\\n",
       "0           0.057162         0.147906                       0.543856   \n",
       "1           0.106246         0.174866                       0.246129   \n",
       "2           0.034500         0.495863                       0.017097   \n",
       "3           0.104396         0.726476                       0.043409   \n",
       "4           0.122499         0.249059                       0.354419   \n",
       "\n",
       "   informativo_demandante_proba  \n",
       "0                      0.067682  \n",
       "1                      0.363890  \n",
       "2                      0.294896  \n",
       "3                      0.044043  \n",
       "4                      0.210841  "
      ]
     },
     "execution_count": 51,
     "metadata": {},
     "output_type": "execute_result"
    }
   ],
   "source": [
    "final_res = pd.concat([all_es,pd.DataFrame(all_preds_proba, columns=labels_prob)], axis=1)\n",
    "final_res.head(5)"
   ]
  },
  {
   "cell_type": "code",
   "execution_count": 52,
   "id": "e5d7f6ed",
   "metadata": {},
   "outputs": [
    {
     "data": {
      "text/plain": [
       "(454748, 9)"
      ]
     },
     "execution_count": 52,
     "metadata": {},
     "output_type": "execute_result"
    }
   ],
   "source": [
    "final_res.shape"
   ]
  },
  {
   "cell_type": "code",
   "execution_count": 53,
   "id": "880e8e17",
   "metadata": {},
   "outputs": [],
   "source": [
    "final_res.to_csv(f'../../../results/citizens_final_{model_name}_results.csv', index=False)"
   ]
  },
  {
   "cell_type": "code",
   "execution_count": null,
   "id": "670c9a2f",
   "metadata": {},
   "outputs": [],
   "source": []
  }
 ],
 "metadata": {
  "accelerator": "GPU",
  "celltoolbar": "Tags",
  "colab": {
   "collapsed_sections": [],
   "name": "3_models_multiclass_baseline_bert_embeddings.ipynb",
   "provenance": []
  },
  "gpuClass": "standard",
  "kernelspec": {
   "display_name": "Python 3 (ipykernel)",
   "language": "python",
   "name": "python3"
  },
  "language_info": {
   "codemirror_mode": {
    "name": "ipython",
    "version": 3
   },
   "file_extension": ".py",
   "mimetype": "text/x-python",
   "name": "python",
   "nbconvert_exporter": "python",
   "pygments_lexer": "ipython3",
   "version": "3.9.12"
  },
  "papermill": {
   "default_parameters": {},
   "duration": 47.584666,
   "end_time": "2022-08-09T15:27:48.180714",
   "environment_variables": {},
   "exception": null,
   "input_path": "0_models_baseline_bert_embeddings.ipynb",
   "output_path": "papermill/0_models_baseline_bert_embeddings_decisiones_hist.ipynb",
   "parameters": {
    "col_target": "decisiones",
    "model_name": "hist"
   },
   "start_time": "2022-08-09T15:27:00.596048",
   "version": "2.3.4"
  },
  "vscode": {
   "interpreter": {
    "hash": "45997051a618164a2aaa1103953d009f53296a5c7fd869ab5dc2d414330730df"
   }
  }
 },
 "nbformat": 4,
 "nbformat_minor": 5
}
